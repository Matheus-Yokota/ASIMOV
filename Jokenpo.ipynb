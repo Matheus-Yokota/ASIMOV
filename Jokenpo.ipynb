{
  "nbformat": 4,
  "nbformat_minor": 0,
  "metadata": {
    "colab": {
      "provenance": []
    },
    "kernelspec": {
      "name": "python3",
      "display_name": "Python 3"
    },
    "language_info": {
      "name": "python"
    }
  },
  "cells": [
    {
      "cell_type": "markdown",
      "source": [
        "# Projeto Asimov: Pedra, Papel Tesoura"
      ],
      "metadata": {
        "id": "5A7SCXjIQ6fX"
      }
    },
    {
      "cell_type": "code",
      "source": [
        "# Importando as bibliotecas necessárias\n",
        "\n",
        "from random import randint"
      ],
      "metadata": {
        "id": "6h-xLOTXRIdX"
      },
      "execution_count": null,
      "outputs": []
    },
    {
      "cell_type": "code",
      "source": [
        "# Criando as variáveis necessárias\n",
        "\n",
        "# Essas variáveis armazenam as jogadas realidas pelo jogador e pela máquina.\n",
        "jogada_pessoa = 0\n",
        "jogada_computador = 0\n",
        "\n",
        "# Essas variáveis armazenam as pontuações.\n",
        "pontuacao_pessoa = 0\n",
        "pontuacao_computador = 0"
      ],
      "metadata": {
        "id": "8dgcXXexRtIi"
      },
      "execution_count": null,
      "outputs": []
    },
    {
      "cell_type": "code",
      "source": [
        "# Dicionário das jogadas\n",
        "\n",
        "dicionario_jogadas = {0: 'PEDRA',\n",
        "                      1: 'PAPEL',\n",
        "                      2: 'TESOURA'}"
      ],
      "metadata": {
        "id": "5Nxd2AxBgMT1"
      },
      "execution_count": null,
      "outputs": []
    },
    {
      "cell_type": "code",
      "source": [
        "# Função que faz a jogada do computador.\n",
        "\n",
        "def j_computador():\n",
        "  jogada = str(randint(0, 2))\n",
        "  return jogada"
      ],
      "metadata": {
        "id": "aZHJTYjzZmN_"
      },
      "execution_count": null,
      "outputs": []
    },
    {
      "cell_type": "code",
      "source": [
        "# Criando a tela inicial do programa\n",
        "\n",
        "print('===========================================')\n",
        "print('BEM VINDO AO JOGO DE PEDRA, PAPEL E TESOURA')\n",
        "print('===========================================\\n\\n')\n",
        "\n",
        "# Reseta as pontuações toda vez que o jogo recomeçar.\n",
        "pontuacao_pessoa = 0\n",
        "pontuacao_computador = 0\n",
        "\n",
        "# Impressão do placar\n",
        "print('PLACAR:')\n",
        "print(f'VOCÊ: {pontuacao_pessoa}')\n",
        "print(f'COMPUTADOR: {pontuacao_computador}\\n\\n')\n",
        "\n",
        "# Crio um laço de repetição para verificar se o jogador quer continuar jogando.\n",
        "while True:\n",
        "\n",
        "  print('ESCOLHA SEU LANCE:')\n",
        "  print('0 - PEDRA | 1 - PAPEL | 2 - TESOURA')\n",
        "  jogada_pessoa = input()\n",
        "\n",
        "    # Crio um laço de repetição para o caso do usuário digitar um valor inválido.\n",
        "  while True:\n",
        "\n",
        "    if jogada_pessoa != '0' and jogada_pessoa != '1' and jogada_pessoa != '2':\n",
        "      print('\\nVOCÊ DIGITOU UM VALOR INVÁLIDO!')\n",
        "      print('ESCOLHA SEU LANCE:')\n",
        "      print('0 - PEDRA | 1 - PAPEL | 2 - TESOURA')\n",
        "      jogada_pessoa = input()\n",
        "    else:\n",
        "      break\n",
        "\n",
        "  # Jogada do computador\n",
        "  jogada_computador = j_computador()\n",
        "\n",
        "  # Impressão das jogadas\n",
        "  print('\\n===========================================')\n",
        "  print(f'SUA JOGADA FOI: {dicionario_jogadas[int(jogada_pessoa)]}')\n",
        "  print(f'JOGADA COMPUTADOR FOI: {dicionario_jogadas[int(jogada_computador)]}')\n",
        "\n",
        "  # Verificação do vencedor\n",
        "  if (jogada_pessoa == '0' and jogada_computador == '1') or (jogada_pessoa == '1' and jogada_computador == '2') or (jogada_pessoa == '2' and jogada_computador == '0'):\n",
        "    print('COMPUTADOR VENCEU!')\n",
        "    pontuacao_computador +=1\n",
        "  elif (jogada_computador == '0' and jogada_pessoa == '1') or (jogada_computador == '1' and jogada_pessoa == '2') or (jogada_computador == '2' and jogada_pessoa == '0'):\n",
        "    print('VOCÊ VENCEU!')\n",
        "    pontuacao_pessoa +=1\n",
        "  else:\n",
        "    print('EMPATE!')\n",
        "\n",
        "  print('===========================================\\n')\n",
        "\n",
        "  # Impressão do placar\n",
        "  print('PLACAR:')\n",
        "  print(f'VOCÊ: {pontuacao_pessoa}')\n",
        "  print(f'COMPUTADOR: {pontuacao_computador}\\n')\n",
        "\n",
        "  # Condição para entrar no while\n",
        "  continuar = 2\n",
        "\n",
        "  while continuar != '0' and continuar != '1':\n",
        "    continuar = input('JOGAR NOVAMENTE? 0 - SIM | 1 - NÃO\\n')\n",
        "  if continuar == '1':\n",
        "    break"
      ],
      "metadata": {
        "id": "y0eKtChYRtDk"
      },
      "execution_count": null,
      "outputs": []
    }
  ]
}